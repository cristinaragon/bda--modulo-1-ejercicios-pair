{
 "cells": [
  {
   "cell_type": "markdown",
   "id": "1492acc9",
   "metadata": {},
   "source": [
    "1. Usando la siguiente lista:\n",
    "\n",
    "\n",
    "Copy\n",
    "temperaturas = [2,45,67,23, 45,66,12,1,34,67,99,98,67,64, 44, 100]\n",
    "Crea tres listas nuevas, donde:\n",
    "\n",
    "En la primera tengamos temperaturas entre 0 - 10, llama a la nueva lista bajas_temp.\n",
    "\n",
    "En la segunda tengamos temperaturas entre 11- 20, llama a la nueva lista medias_temp.\n",
    "\n",
    "En la tercera tengamos temperaturas por encima de 20, llama a la nueva lista altas_temp"
   ]
  },
  {
   "cell_type": "code",
   "execution_count": 1,
   "id": "d2cf6a17",
   "metadata": {},
   "outputs": [
    {
     "name": "stdout",
     "output_type": "stream",
     "text": [
      "Temperaturas bajas (0-10): [2, 1]\n",
      "Temperaturas medias (11-20): [12]\n",
      "Temperaturas altas (>20): [45, 67, 23, 45, 66, 34, 67, 99, 98, 67, 64, 44, 100]\n"
     ]
    }
   ],
   "source": [
    "temperaturas = [2, 45, 67, 23, 45, 66, 12, 1, 34, 67, 99, 98, 67, 64, 44, 100]\n",
    "\n",
    "bajas_temp = [temp for temp in temperaturas if 0 <= temp <= 10]\n",
    "medias_temp = [temp for temp in temperaturas if 11 <= temp <= 20]\n",
    "altas_temp = [temp for temp in temperaturas if temp > 20]\n",
    "\n",
    "print(\"Temperaturas bajas (0-10):\", bajas_temp)\n",
    "print(\"Temperaturas medias (11-20):\", medias_temp)\n",
    "print(\"Temperaturas altas (>20):\", altas_temp)\n"
   ]
  },
  {
   "cell_type": "markdown",
   "id": "23bed647",
   "metadata": {},
   "source": [
    "\n",
    "2. Las temperaturas están grados centígrados. Para cada una de las listas creadas en el ejercicio anterior, convertid las temperaturas a grados fahrenheit."
   ]
  },
  {
   "cell_type": "code",
   "execution_count": 2,
   "id": "244c6f68",
   "metadata": {},
   "outputs": [
    {
     "name": "stdout",
     "output_type": "stream",
     "text": [
      "Bajas en °F: [35.6, 33.8]\n",
      "Medias en °F: [53.6]\n",
      "Altas en °F: [113.0, 152.6, 73.4, 113.0, 150.8, 93.2, 152.6, 210.2, 208.4, 152.6, 147.2, 111.2, 212.0]\n"
     ]
    }
   ],
   "source": [
    "# Listas originales\n",
    "bajas_temp = [2, 1]\n",
    "medias_temp = [12]\n",
    "altas_temp = [45, 67, 23, 45, 66, 34, 67, 99, 98, 67, 64, 44, 100]\n",
    "\n",
    "# Conversión a Fahrenheit\n",
    "bajas_f = [(c * 9/5) + 32 for c in bajas_temp]\n",
    "medias_f = [(c * 9/5) + 32 for c in medias_temp]\n",
    "altas_f = [(c * 9/5) + 32 for c in altas_temp]\n",
    "\n",
    "# Resultados\n",
    "print(\"Bajas en °F:\", bajas_f)\n",
    "print(\"Medias en °F:\", medias_f)\n",
    "print(\"Altas en °F:\", altas_f)\n"
   ]
  },
  {
   "cell_type": "markdown",
   "id": "9e4d9f25",
   "metadata": {},
   "source": [
    "3.Define e imprime un rango de 0 a 6 (excluido)."
   ]
  },
  {
   "cell_type": "code",
   "execution_count": 3,
   "id": "288fac40",
   "metadata": {},
   "outputs": [
    {
     "name": "stdout",
     "output_type": "stream",
     "text": [
      "[0, 1, 2, 3, 4, 5]\n"
     ]
    }
   ],
   "source": [
    "rango = range(0, 6)\n",
    "print(list(rango))"
   ]
  },
  {
   "cell_type": "markdown",
   "id": "5adb2688",
   "metadata": {},
   "source": [
    "\n",
    "\n",
    "4.Define e imprime un rango de 3 a 6 ambos incluidos."
   ]
  },
  {
   "cell_type": "code",
   "execution_count": 4,
   "id": "d0d870ef",
   "metadata": {},
   "outputs": [
    {
     "name": "stdout",
     "output_type": "stream",
     "text": [
      "[3, 4, 5, 6]\n"
     ]
    }
   ],
   "source": [
    "rango = range(3, 7)  # 7 es exclusivo, así que incluye hasta el 6\n",
    "print(list(rango))\n"
   ]
  },
  {
   "cell_type": "markdown",
   "id": "86c464c8",
   "metadata": {},
   "source": [
    "\n",
    "5. Define e imprime un rango de 5 a 9 ambos excluidos."
   ]
  },
  {
   "cell_type": "code",
   "execution_count": 5,
   "id": "bf97930a",
   "metadata": {},
   "outputs": [
    {
     "name": "stdout",
     "output_type": "stream",
     "text": [
      "[6, 7, 8]\n"
     ]
    }
   ],
   "source": [
    "rango = range(6, 9)\n",
    "print(list(rango))\n"
   ]
  },
  {
   "cell_type": "markdown",
   "id": "ab442b39",
   "metadata": {},
   "source": [
    "6.Define e imprime un rango de 3 números que empiece en 2."
   ]
  },
  {
   "cell_type": "code",
   "execution_count": 6,
   "id": "24f6f584",
   "metadata": {},
   "outputs": [
    {
     "name": "stdout",
     "output_type": "stream",
     "text": [
      "[2, 3, 4]\n"
     ]
    }
   ],
   "source": [
    "rango = range(2, 5)  # Empieza en 2 y termina en 4 (5 es exclusivo)\n",
    "print(list(rango))"
   ]
  },
  {
   "cell_type": "markdown",
   "id": "a88e9b85",
   "metadata": {},
   "source": [
    "7.Define e imprime un rango que empiece en 2, aumentando cada paso por 3, que pare antes de llegar al número 13."
   ]
  },
  {
   "cell_type": "code",
   "execution_count": 7,
   "id": "59416c0f",
   "metadata": {},
   "outputs": [
    {
     "name": "stdout",
     "output_type": "stream",
     "text": [
      "[2, 5, 8, 11]\n"
     ]
    }
   ],
   "source": [
    "rango = range(2, 13, 3)\n",
    "print(list(rango))\n"
   ]
  },
  {
   "cell_type": "markdown",
   "id": "d5d97a66",
   "metadata": {},
   "source": [
    "8.Define e imprime un rango con todos los valores impares que hay hasta 10."
   ]
  },
  {
   "cell_type": "code",
   "execution_count": 8,
   "id": "0125d54f",
   "metadata": {},
   "outputs": [
    {
     "name": "stdout",
     "output_type": "stream",
     "text": [
      "[1, 3, 5, 7, 9]\n"
     ]
    }
   ],
   "source": [
    "rango_impares = range(1, 10, 2)\n",
    "print(list(rango_impares))\n"
   ]
  },
  {
   "cell_type": "markdown",
   "id": "074c67e3",
   "metadata": {},
   "source": [
    "\n",
    "9.Crea una lista nueva donde tengamos los números de la lista temperaturas elevados al cuadrado."
   ]
  },
  {
   "cell_type": "code",
   "execution_count": 9,
   "id": "28a2e4f5",
   "metadata": {},
   "outputs": [
    {
     "name": "stdout",
     "output_type": "stream",
     "text": [
      "Temperaturas al cuadrado: [4, 2025, 4489, 529, 2025, 4356, 144, 1, 1156, 4489, 9801, 9604, 4489, 4096, 1936, 10000]\n"
     ]
    }
   ],
   "source": [
    "temperaturas = [2, 45, 67, 23, 45, 66, 12, 1, 34, 67, 99, 98, 67, 64, 44, 100]\n",
    "\n",
    "temperaturas_cuadrado = [temp ** 2 for temp in temperaturas]\n",
    "\n",
    "print(\"Temperaturas al cuadrado:\", temperaturas_cuadrado)\n"
   ]
  },
  {
   "cell_type": "markdown",
   "id": "0e0caa36",
   "metadata": {},
   "source": [
    "10.Crea una lista nueva donde tengamos el resto de la división de cada uno de los números entre 2."
   ]
  },
  {
   "cell_type": "code",
   "execution_count": 10,
   "id": "f146d9a4",
   "metadata": {},
   "outputs": [
    {
     "name": "stdout",
     "output_type": "stream",
     "text": [
      "Resto de cada temperatura entre 2: [0, 1, 1, 1, 1, 0, 0, 1, 0, 1, 1, 0, 1, 0, 0, 0]\n"
     ]
    }
   ],
   "source": [
    "temperaturas = [2, 45, 67, 23, 45, 66, 12, 1, 34, 67, 99, 98, 67, 64, 44, 100]\n",
    "\n",
    "restos_div2 = [temp % 2 for temp in temperaturas]\n",
    "\n",
    "print(\"Resto de cada temperatura entre 2:\", restos_div2)\n"
   ]
  },
  {
   "cell_type": "markdown",
   "id": "5adab05c",
   "metadata": {},
   "source": [
    "11.Crea una lista nueva donde tengamos solo los elementos pares de la lista temperaturas."
   ]
  },
  {
   "cell_type": "code",
   "execution_count": 11,
   "id": "892279df",
   "metadata": {},
   "outputs": [
    {
     "name": "stdout",
     "output_type": "stream",
     "text": [
      "Temperaturas pares: [2, 66, 12, 34, 98, 64, 44, 100]\n"
     ]
    }
   ],
   "source": [
    "temperaturas = [2, 45, 67, 23, 45, 66, 12, 1, 34, 67, 99, 98, 67, 64, 44, 100]\n",
    "\n",
    "temperaturas_pares = [temp for temp in temperaturas if temp % 2 == 0]\n",
    "\n",
    "print(\"Temperaturas pares:\", temperaturas_pares)\n"
   ]
  },
  {
   "cell_type": "markdown",
   "id": "420436ee",
   "metadata": {},
   "source": [
    "\n",
    "12. Crea una lista nueva donde tengamos solo los elementos que sean menores que 50."
   ]
  },
  {
   "cell_type": "code",
   "execution_count": 12,
   "id": "50eb2a6a",
   "metadata": {},
   "outputs": [
    {
     "name": "stdout",
     "output_type": "stream",
     "text": [
      "Temperaturas menores que 50: [2, 45, 23, 45, 12, 1, 34, 44]\n"
     ]
    }
   ],
   "source": [
    "temperaturas = [2, 45, 67, 23, 45, 66, 12, 1, 34, 67, 99, 98, 67, 64, 44, 100]\n",
    "\n",
    "temperaturas_menores_50 = [temp for temp in temperaturas if temp < 50]\n",
    "\n",
    "print(\"Temperaturas menores que 50:\", temperaturas_menores_50)\n"
   ]
  },
  {
   "cell_type": "markdown",
   "id": "9b8e6778",
   "metadata": {},
   "source": [
    "13. Crea una lista donde tengamos los valores \"par\" e \"impar\" en función de los valores de la lista original. La lista resultante tiene que ser como la que indicamos a continuación:"
   ]
  },
  {
   "cell_type": "code",
   "execution_count": 13,
   "id": "5463125b",
   "metadata": {},
   "outputs": [
    {
     "name": "stdout",
     "output_type": "stream",
     "text": [
      "Paridad de cada temperatura: ['par', 'impar', 'impar', 'impar', 'impar', 'par', 'par', 'impar', 'par', 'impar', 'impar', 'par', 'impar', 'par', 'par', 'par']\n"
     ]
    }
   ],
   "source": [
    "temperaturas = [2, 45, 67, 23, 45, 66, 12, 1, 34, 67, 99, 98, 67, 64, 44, 100]\n",
    "\n",
    "paridad = [\"par\" if temp % 2 == 0 else \"impar\" for temp in temperaturas]\n",
    "\n",
    "print(\"Paridad de cada temperatura:\", paridad)\n"
   ]
  },
  {
   "cell_type": "markdown",
   "id": "5620f13a",
   "metadata": {},
   "source": [
    "\n",
    "14.Pide al usuario un número entero positivo y suma los números pares e impares por separado hasta ese número."
   ]
  },
  {
   "cell_type": "code",
   "execution_count": 14,
   "id": "955aee5b",
   "metadata": {},
   "outputs": [
    {
     "name": "stdout",
     "output_type": "stream",
     "text": [
      "Suma de números pares: 2\n",
      "Suma de números impares: 1\n"
     ]
    }
   ],
   "source": [
    "# Solicitar al usuario un número entero positivo\n",
    "numero = int(input(\"Introduce un número entero positivo: \"))\n",
    "\n",
    "# Inicializar acumuladores\n",
    "suma_pares = 0\n",
    "suma_impares = 0\n",
    "\n",
    "# Recorrer desde 1 hasta el número ingresado\n",
    "for n in range(1, numero + 1):\n",
    "    if n % 2 == 0:\n",
    "        suma_pares += n\n",
    "    else:\n",
    "        suma_impares += n\n",
    "\n",
    "# Mostrar resultados\n",
    "print(\"Suma de números pares:\", suma_pares)\n",
    "print(\"Suma de números impares:\", suma_impares)\n"
   ]
  },
  {
   "cell_type": "markdown",
   "id": "2c81188f",
   "metadata": {},
   "source": [
    "\n",
    "15. Pide al usuario ingresar una cadena y cuenta cuántas veces aparece cada vocal (a, e, i, o, u) en la cadena."
   ]
  },
  {
   "cell_type": "code",
   "execution_count": 17,
   "id": "a1e1a29c",
   "metadata": {},
   "outputs": [
    {
     "name": "stdout",
     "output_type": "stream",
     "text": [
      "La vocal 'a' aparece 2 veces.\n",
      "La vocal 'e' aparece 0 veces.\n",
      "La vocal 'i' aparece 0 veces.\n",
      "La vocal 'o' aparece 0 veces.\n",
      "La vocal 'u' aparece 0 veces.\n"
     ]
    }
   ],
   "source": [
    "# Solicitar al usuario una cadena\n",
    "cadena = input(\"Introduce una cadena de texto: \")\n",
    "\n",
    "# Convertir la cadena a minúsculas para contar sin distinguir mayúsculas\n",
    "cadena = cadena.lower()\n",
    "\n",
    "# Inicializar contador de vocales\n",
    "vocales = {'a': 0, 'e': 0, 'i': 0, 'o': 0, 'u': 0}\n",
    "\n",
    "# Recorrer cada carácter y contar si es vocal\n",
    "for letra in cadena:\n",
    "    if letra in vocales:\n",
    "        vocales[letra] += 1\n",
    "\n",
    "# Mostrar resultados\n",
    "for vocal, cantidad in vocales.items():\n",
    "    print(f\"La vocal '{vocal}' aparece {cantidad} veces.\")\n"
   ]
  },
  {
   "cell_type": "markdown",
   "id": "6b3f3db5",
   "metadata": {},
   "source": [
    "\n",
    "1. Crea una variable que sea igual a \"Python\" y genera un código que nos printee todas las letras menos la \"P\" usando la sentencia continue."
   ]
  },
  {
   "cell_type": "code",
   "execution_count": 16,
   "id": "9687b309",
   "metadata": {},
   "outputs": [
    {
     "name": "stdout",
     "output_type": "stream",
     "text": [
      "y\n",
      "t\n",
      "h\n",
      "o\n",
      "n\n"
     ]
    }
   ],
   "source": [
    "palabra = \"Python\"\n",
    "\n",
    "for letra in palabra:\n",
    "    if letra == \"P\":\n",
    "        continue\n",
    "    print(letra)\n"
   ]
  },
  {
   "cell_type": "markdown",
   "id": "529a0c93",
   "metadata": {},
   "source": [
    "2. De la frase 'Hello' imprime todas las letras que no sean una 'l' usando if."
   ]
  },
  {
   "cell_type": "code",
   "execution_count": 18,
   "id": "1cd05675",
   "metadata": {},
   "outputs": [
    {
     "name": "stdout",
     "output_type": "stream",
     "text": [
      "H\n",
      "e\n",
      "o\n"
     ]
    }
   ],
   "source": [
    "frase = \"Hello\"\n",
    "\n",
    "for letra in frase:\n",
    "    if letra != \"l\":\n",
    "        print(letra)\n"
   ]
  },
  {
   "cell_type": "markdown",
   "id": "633e2010",
   "metadata": {},
   "source": [
    "3. Haz lo mismo que en 2 usando continue."
   ]
  },
  {
   "cell_type": "code",
   "execution_count": 19,
   "id": "a8127267",
   "metadata": {},
   "outputs": [
    {
     "name": "stdout",
     "output_type": "stream",
     "text": [
      "H\n",
      "e\n",
      "o\n"
     ]
    }
   ],
   "source": [
    "frase = \"Hello\"\n",
    "\n",
    "for letra in frase:\n",
    "    if letra == \"l\":\n",
    "        continue\n",
    "    print(letra)\n"
   ]
  },
  {
   "cell_type": "markdown",
   "id": "f4938cb8",
   "metadata": {},
   "source": [
    "4. De la frase 'Hello' imprime todas las letras parando el bucle si encuentras una 'o'."
   ]
  },
  {
   "cell_type": "code",
   "execution_count": 20,
   "id": "429f88b6",
   "metadata": {},
   "outputs": [
    {
     "name": "stdout",
     "output_type": "stream",
     "text": [
      "H\n",
      "e\n",
      "l\n",
      "l\n"
     ]
    }
   ],
   "source": [
    "frase = \"Hello\"\n",
    "\n",
    "for letra in frase:\n",
    "    if letra == \"o\":\n",
    "        break\n",
    "    print(letra)\n"
   ]
  },
  {
   "cell_type": "markdown",
   "id": "cb0fb4d5",
   "metadata": {},
   "source": [
    "5. Define la variable doce = '12' y seis = 6. Intenta sumarlos. En el caso de que te salga un error imprime '¡Un error!'. Para eso usa un try ... except"
   ]
  },
  {
   "cell_type": "code",
   "execution_count": 21,
   "id": "aaecaaa9",
   "metadata": {},
   "outputs": [
    {
     "name": "stdout",
     "output_type": "stream",
     "text": [
      "¡Un error!\n"
     ]
    }
   ],
   "source": [
    "doce = '12'\n",
    "seis = 6\n",
    "\n",
    "try:\n",
    "    resultado = doce + seis\n",
    "    print(\"Resultado:\", resultado)\n",
    "except:\n",
    "    print(\"¡Un error!\")\n"
   ]
  },
  {
   "cell_type": "markdown",
   "id": "4c219183",
   "metadata": {},
   "source": [
    "6. Basándonos en el ejercicio anterior, sin usar un try ... except, ¿cómo podríamos solucionar el problema?"
   ]
  },
  {
   "cell_type": "code",
   "execution_count": 22,
   "id": "27024afc",
   "metadata": {},
   "outputs": [
    {
     "name": "stdout",
     "output_type": "stream",
     "text": [
      "Resultado: 18\n"
     ]
    }
   ],
   "source": [
    "doce = '12'\n",
    "seis = 6\n",
    "\n",
    "resultado = int(doce) + seis\n",
    "print(\"Resultado:\", resultado)\n"
   ]
  },
  {
   "cell_type": "markdown",
   "id": "5771c6d6",
   "metadata": {},
   "source": [
    "\n",
    "7. Solicita al usuario ingresar números enteros positivos hasta que ingrese un número negativo. Luego, muestra la suma de todos los números pares ingresados."
   ]
  },
  {
   "cell_type": "code",
   "execution_count": 23,
   "id": "363f5cec",
   "metadata": {},
   "outputs": [
    {
     "name": "stdout",
     "output_type": "stream",
     "text": [
      "La suma de los números pares ingresados es: 0\n"
     ]
    }
   ],
   "source": [
    "# Inicializar lista y suma\n",
    "suma_pares = 0\n",
    "\n",
    "while True:\n",
    "    numero = int(input(\"Ingresa un número entero positivo (o uno negativo para salir): \"))\n",
    "    \n",
    "    if numero < 0:\n",
    "        break\n",
    "    \n",
    "    if numero % 2 == 0:\n",
    "        suma_pares += numero\n",
    "\n",
    "print(\"La suma de los números pares ingresados es:\", suma_pares)\n"
   ]
  },
  {
   "cell_type": "markdown",
   "id": "86aa7a9f",
   "metadata": {},
   "source": [
    "\n",
    "8. Solicita al usuario ingresar dos números y muestra el resultado de dividir el primero por el segundo. Asegúrate de manejar la excepción si el segundo número es cero."
   ]
  },
  {
   "cell_type": "code",
   "execution_count": 24,
   "id": "12b4dfcb",
   "metadata": {},
   "outputs": [
    {
     "name": "stdout",
     "output_type": "stream",
     "text": [
      "Resultado de la división: 1.0\n"
     ]
    }
   ],
   "source": [
    "# Solicitar dos números al usuario\n",
    "num1 = float(input(\"Ingresa el primer número: \"))\n",
    "num2 = float(input(\"Ingresa el segundo número: \"))\n",
    "\n",
    "# Intentar la división y manejar el error si el segundo número es cero\n",
    "try:\n",
    "    resultado = num1 / num2\n",
    "    print(\"Resultado de la división:\", resultado)\n",
    "except ZeroDivisionError:\n",
    "    print(\"¡Un error! No se puede dividir entre cero.\")\n"
   ]
  },
  {
   "cell_type": "markdown",
   "id": "5da9ae5a",
   "metadata": {},
   "source": [
    "9. Solicita al usuario ingresar un número y muestra su raíz cuadrada. Maneja la excepción si el número es negativo."
   ]
  },
  {
   "cell_type": "code",
   "execution_count": 25,
   "id": "841783de",
   "metadata": {},
   "outputs": [
    {
     "name": "stdout",
     "output_type": "stream",
     "text": [
      "La raíz cuadrada es: 2.0\n"
     ]
    }
   ],
   "source": [
    "import math\n",
    "\n",
    "# Solicitar al usuario un número\n",
    "numero = float(input(\"Ingresa un número: \"))\n",
    "\n",
    "# Intentar calcular la raíz cuadrada\n",
    "try:\n",
    "    raiz = math.sqrt(numero)\n",
    "    print(\"La raíz cuadrada es:\", raiz)\n",
    "except ValueError:\n",
    "    print(\"¡Un error! No se puede calcular la raíz cuadrada de un número negativo.\")\n"
   ]
  },
  {
   "cell_type": "markdown",
   "id": "bd06f0f6",
   "metadata": {},
   "source": [
    "\n",
    "10. Crea una lista de números y solicita al usuario ingresar un índice para acceder a un elemento de la lista. Maneja la excepción si el índice está fuera de rango."
   ]
  },
  {
   "cell_type": "markdown",
   "id": "43ff5ffc",
   "metadata": {},
   "source": [
    "\n",
    "11. Crea una lista de números y solicita al usuario ingresar un índice para acceder a un elemento de la lista. Maneja la excepción si el índice está fuera de rango."
   ]
  }
 ],
 "metadata": {
  "kernelspec": {
   "display_name": "Python 3",
   "language": "python",
   "name": "python3"
  },
  "language_info": {
   "codemirror_mode": {
    "name": "ipython",
    "version": 3
   },
   "file_extension": ".py",
   "mimetype": "text/x-python",
   "name": "python",
   "nbconvert_exporter": "python",
   "pygments_lexer": "ipython3",
   "version": "3.13.7"
  }
 },
 "nbformat": 4,
 "nbformat_minor": 5
}
