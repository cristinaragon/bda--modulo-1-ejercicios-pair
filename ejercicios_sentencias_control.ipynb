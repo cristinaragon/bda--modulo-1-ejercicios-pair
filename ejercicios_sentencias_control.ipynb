{
 "cells": [
  {
   "cell_type": "markdown",
   "id": "bbb59295",
   "metadata": {},
   "source": [
    "1. Crea las siguientes variables:\n",
    "\n",
    "var1 sea un número con el valor 8.\n",
    "\n",
    "var2 sea un número con el valor 2.\n",
    "\n",
    "var3 sea un número con el valor 8."
   ]
  },
  {
   "cell_type": "code",
   "execution_count": 1,
   "id": "9ae06cc9",
   "metadata": {},
   "outputs": [],
   "source": [
    "var1 = 8\n",
    "var2 = 2\n",
    "var3 = 8"
   ]
  },
  {
   "cell_type": "markdown",
   "id": "0370b9fb",
   "metadata": {},
   "source": [
    "2. Comprueba si var1 es mayor que 6, y si es así imprime ¡Es enorme!."
   ]
  },
  {
   "cell_type": "code",
   "execution_count": 2,
   "id": "4ed7a45b",
   "metadata": {},
   "outputs": [
    {
     "name": "stdout",
     "output_type": "stream",
     "text": [
      "¡Es enorme!\n"
     ]
    }
   ],
   "source": [
    "if var1 > 6:\n",
    "    print(\"¡Es enorme!\")\n"
   ]
  },
  {
   "cell_type": "markdown",
   "id": "5c196f73",
   "metadata": {},
   "source": [
    "\n",
    "3. Comprueba si var2 es mayor que 6, y si es así imprime ¡Es enorme también!."
   ]
  },
  {
   "cell_type": "code",
   "execution_count": null,
   "id": "ad7945d5",
   "metadata": {},
   "outputs": [],
   "source": [
    "if var2 > 6:\n",
    "    print(\"¡Es enorme también!\") #no imprime porque var2 = 2 y no es mayor a 6.\n"
   ]
  },
  {
   "cell_type": "markdown",
   "id": "21f49dac",
   "metadata": {},
   "source": [
    "4. Comprueba si var3 es mayor que 6, y si es así imprime ¡Es enorme! seguido por ¡Pero de verdad! en otra línea (deberéis tener dos print)."
   ]
  },
  {
   "cell_type": "code",
   "execution_count": null,
   "id": "a509c7e7",
   "metadata": {},
   "outputs": [
    {
     "name": "stdout",
     "output_type": "stream",
     "text": [
      "¡Es enorme!\n",
      "¡Pero de verdad!\n"
     ]
    }
   ],
   "source": [
    "if var3 > 6:\n",
    "    print(\"¡Es enorme!\")\n",
    "    print(\"¡Pero de verdad!\")\n",
    "#variable var3 = 8 y es mayor a 6, imprime. "
   ]
  },
  {
   "cell_type": "markdown",
   "id": "154d80b6",
   "metadata": {},
   "source": [
    "\n",
    "5. Comprueba si var1 es igual que var3, y si es así imprime Son iguales.."
   ]
  },
  {
   "cell_type": "code",
   "execution_count": null,
   "id": "cde225ad",
   "metadata": {},
   "outputs": [
    {
     "name": "stdout",
     "output_type": "stream",
     "text": [
      "Son iguales.\n"
     ]
    }
   ],
   "source": [
    "if var1 == var3:\n",
    "    print(\"Son iguales.\")   #var1 y var3 tienen un valor de 8 ( son iguales). Imprime!"
   ]
  },
  {
   "cell_type": "markdown",
   "id": "22e51555",
   "metadata": {},
   "source": [
    "6. Comprueba si var1 es igual que var2, y si es así imprime Son iguales."
   ]
  },
  {
   "cell_type": "code",
   "execution_count": null,
   "id": "97dbc6ff",
   "metadata": {},
   "outputs": [],
   "source": [
    "if var1 == var2:\n",
    "    print(\"Son iguales.\")    #var1 (8) y var2(2) no son iguales. No imprime!"
   ]
  },
  {
   "cell_type": "markdown",
   "id": "4c94015e",
   "metadata": {},
   "source": [
    "7. Comprueba si var1 es mayor o igual que var2, y si es así calcula la diferencia entre var1 y var2, guárdala en la variable dif, e imprime 'La diferencia es',dif."
   ]
  },
  {
   "cell_type": "code",
   "execution_count": null,
   "id": "1a50e2cd",
   "metadata": {},
   "outputs": [
    {
     "name": "stdout",
     "output_type": "stream",
     "text": [
      "La diferencia es 6\n"
     ]
    }
   ],
   "source": [
    "if var1 >= var2:\n",
    "    dif = var1 - var2\n",
    "    print(\"La diferencia es\", dif)      #var1 (8) es mayor o igual a var2(2). Calculamos la diferencia. \n"
   ]
  },
  {
   "cell_type": "markdown",
   "id": "a1163e0b",
   "metadata": {},
   "source": [
    "8. Comprueba si var1 es mayor que 6, y si es así imprime ¡Es enorme!. Si no es así imprime Es chiquitín.."
   ]
  },
  {
   "cell_type": "code",
   "execution_count": null,
   "id": "ed0526d0",
   "metadata": {},
   "outputs": [
    {
     "name": "stdout",
     "output_type": "stream",
     "text": [
      "¡Es enorme!\n"
     ]
    }
   ],
   "source": [
    "if var1 > 6:\n",
    "    print(\"¡Es enorme!\")\n",
    "else:\n",
    "    print(\"Es chiquitín.\")  #var1 (8) es mayor a 6. Imprimirá:¡Es enorme! \n"
   ]
  },
  {
   "cell_type": "code",
   "execution_count": null,
   "id": "7b57857e",
   "metadata": {},
   "outputs": [
    {
     "name": "stdout",
     "output_type": "stream",
     "text": [
      "Es chiquitín.\n"
     ]
    }
   ],
   "source": [
    "#Mi ejemplo: Si var1 fuera más pequeño que 6 ( por ejemplo tiene un valor 3), se imprime chiquitín.\n",
    "var1 = 3\n",
    "\n",
    "if var1 > 6:\n",
    "    print(\"¡Es enorme!\")\n",
    "else:\n",
    "    print(\"Es chiquitín.\")"
   ]
  },
  {
   "cell_type": "markdown",
   "id": "b34769e0",
   "metadata": {},
   "source": [
    "9. Comprueba si var2 es mayor que 6, y si es así imprime ¡Es enorme también!. Si no es así imprime Es chiquitín también.."
   ]
  },
  {
   "cell_type": "code",
   "execution_count": null,
   "id": "93604329",
   "metadata": {},
   "outputs": [
    {
     "name": "stdout",
     "output_type": "stream",
     "text": [
      "Es chiquitín también.\n"
     ]
    }
   ],
   "source": [
    "if var2 > 6:\n",
    "    print(\"¡Es enorme también!\")\n",
    "else:\n",
    "    print(\"Es chiquitín también.\")  #var2 es menor que 6 (vale 2)\n"
   ]
  },
  {
   "cell_type": "markdown",
   "id": "51c9586e",
   "metadata": {},
   "source": [
    "10. Comprueba si var1 es igual a var3, y si es así imprime Son iguales. Si no es así imprime Son distintos."
   ]
  },
  {
   "cell_type": "code",
   "execution_count": 12,
   "id": "77b73ed0",
   "metadata": {},
   "outputs": [
    {
     "name": "stdout",
     "output_type": "stream",
     "text": [
      "Son iguales.\n"
     ]
    }
   ],
   "source": [
    "if var1 == var3:\n",
    "    print(\"Son iguales.\")\n",
    "else:\n",
    "    print(\"Son distintos.\")\n"
   ]
  },
  {
   "cell_type": "markdown",
   "id": "98bfba5d",
   "metadata": {},
   "source": [
    "11. Escribe un programa para una empresa que tiene salas de juegos para todas las edades y quiere calcular de forma automática el precio que debe cobrar a sus clientes por entrar. El programa debe preguntar al usuario:\n",
    "\n",
    "La edad del cliente.\n",
    "\n",
    "Las condiciones que tendremos que chequear:\n",
    "\n",
    "Si el cliente es menor de 4 años puede entrar gratis,\n",
    "\n",
    "Si tiene entre 4 y 18 años debe pagar 5€ y\n",
    "\n",
    "Si es mayor de 18 años, 10€."
   ]
  },
  {
   "cell_type": "code",
   "execution_count": 13,
   "id": "0c646f37",
   "metadata": {},
   "outputs": [
    {
     "name": "stdout",
     "output_type": "stream",
     "text": [
      "Debes pagar 10€.\n"
     ]
    }
   ],
   "source": [
    "# Preguntar la edad del cliente\n",
    "edad = int(input(\"¿Cuál es tu edad? \"))\n",
    "\n",
    "# Comprobaciones de precio según la edad\n",
    "if edad < 4:\n",
    "    print(\"Puedes entrar gratis.\")\n",
    "elif edad <= 18:\n",
    "    print(\"Debes pagar 5€.\")\n",
    "else:\n",
    "    print(\"Debes pagar 10€.\")\n"
   ]
  },
  {
   "cell_type": "markdown",
   "id": "d36262f6",
   "metadata": {},
   "source": [
    "\n",
    "12. Inicia la variable ahorros con un valor de 5. Crea un bucle while que mientras los ahorros sean igual o menor que 20 imprima por pantalla la cantidad de ahorros que tenemos, y añádele 5 más. Cuando la variable ahorros supere el valor de 20 el bucle deberá parar."
   ]
  },
  {
   "cell_type": "code",
   "execution_count": 14,
   "id": "4fd5c4c9",
   "metadata": {},
   "outputs": [
    {
     "name": "stdout",
     "output_type": "stream",
     "text": [
      "Cantidad de ahorros: 5\n",
      "Cantidad de ahorros: 10\n",
      "Cantidad de ahorros: 15\n",
      "Cantidad de ahorros: 20\n"
     ]
    }
   ],
   "source": [
    "ahorros = 5\n",
    "\n",
    "while ahorros <= 20:\n",
    "    print(\"Cantidad de ahorros:\", ahorros)\n",
    "    ahorros += 5\n"
   ]
  },
  {
   "cell_type": "markdown",
   "id": "03054579",
   "metadata": {},
   "source": [
    "13. Escribe un programa que convierta grados Celsius a grados Fahrenheit o viceversa, según la elección del usuario. Para eso tendrás que preguntar:\n",
    "\n",
    "Desde que unidades va a convertir la temperatura, Celsius o Fahrenheit.\n",
    "\n",
    "Cuál es valor de la temperatura que quiere convertir."
   ]
  },
  {
   "cell_type": "code",
   "execution_count": 15,
   "id": "f89eda08",
   "metadata": {},
   "outputs": [
    {
     "name": "stdout",
     "output_type": "stream",
     "text": [
      "Unidad no reconocida. Por favor escribe 'Celsius' o 'Fahrenheit'.\n"
     ]
    }
   ],
   "source": [
    "# Preguntar al usuario desde qué unidad quiere convertir\n",
    "unidad = input(\"¿Desde qué unidad quieres convertir la temperatura? (Celsius/Fahrenheit): \").strip().lower()\n",
    "\n",
    "# Preguntar el valor de la temperatura\n",
    "valor = float(input(\"¿Cuál es el valor de la temperatura que quieres convertir?: \"))\n",
    "\n",
    "# Realizar la conversión\n",
    "if unidad == \"celsius\":\n",
    "    resultado = (valor * 9/5) + 32\n",
    "    print(\"La temperatura en Fahrenheit es:\", resultado)\n",
    "elif unidad == \"fahrenheit\":\n",
    "    resultado = (valor - 32) * 5/9\n",
    "    print(\"La temperatura en Celsius es:\", resultado)\n",
    "else:\n",
    "    print(\"Unidad no reconocida. Por favor escribe 'Celsius' o 'Fahrenheit'.\")\n"
   ]
  },
  {
   "cell_type": "markdown",
   "id": "6025c5bd",
   "metadata": {},
   "source": [
    "14. Crea un programa que calcule el impuesto sobre la renta de una persona basado en su ingreso anual y su estado civil (soltero o casado). Para eso deberás:\n",
    "\n",
    "Solicitar al usuario su ingreso anual.\n",
    "\n",
    "Preguntar al usuario su estado civil, permitiendo dos opciones: \"soltero\" (S) o \"casado\" (C).\n",
    "\n",
    "Calcular el impuesto sobre la renta utilizando las siguientes reglas:\n",
    "\n",
    "Si el estado civil es \"soltero\" (S):\n",
    "\n",
    "Si el ingreso anual es menor o igual a $9,875, el impuesto es el 10% del ingreso anual.\n",
    "\n",
    "Si el ingreso anual está entre $9,876 y $40,125, el impuesto es el 10% de los primeros $9,875 más el 12% de la cantidad que excede los $9,875.\n",
    "\n",
    "Si el estado civil es \"casado\" (C):\n",
    "\n",
    "Si el ingreso anual es menor o igual a $19,850, el impuesto es el 10% del ingreso anual.\n",
    "\n",
    "Si el ingreso anual está entre $19,851 y $80,250, el impuesto es el 10% de los primeros $19,850 más el 12% de la cantidad que excede los $19,850."
   ]
  },
  {
   "cell_type": "code",
   "execution_count": 16,
   "id": "b49606ef",
   "metadata": {},
   "outputs": [
    {
     "name": "stdout",
     "output_type": "stream",
     "text": [
      "Estado civil no reconocido. Usa 'S' para soltero o 'C' para casado.\n"
     ]
    }
   ],
   "source": [
    "# Solicitar ingreso anual\n",
    "ingreso = float(input(\"Introduce tu ingreso anual en dólares: \"))\n",
    "\n",
    "# Solicitar estado civil\n",
    "estado_civil = input(\"¿Cuál es tu estado civil? (S para soltero, C para casado): \").strip().upper()\n",
    "\n",
    "# Calcular impuesto según estado civil\n",
    "if estado_civil == \"S\":\n",
    "    if ingreso <= 9875:\n",
    "        impuesto = ingreso * 0.10\n",
    "    elif ingreso <= 40125:\n",
    "        impuesto = 9875 * 0.10 + (ingreso - 9875) * 0.12\n",
    "    else:\n",
    "        print(\"Este programa solo cubre ingresos hasta $40,125 para solteros.\")\n",
    "        impuesto = None\n",
    "\n",
    "elif estado_civil == \"C\":\n",
    "    if ingreso <= 19850:\n",
    "        impuesto = ingreso * 0.10\n",
    "    elif ingreso <= 80250:\n",
    "        impuesto = 19850 * 0.10 + (ingreso - 19850) * 0.12\n",
    "    else:\n",
    "        print(\"Este programa solo cubre ingresos hasta $80,250 para casados.\")\n",
    "        impuesto = None\n",
    "\n",
    "else:\n",
    "    print(\"Estado civil no reconocido. Usa 'S' para soltero o 'C' para casado.\")\n",
    "    impuesto = None\n",
    "\n",
    "# Mostrar resultado si se calculó\n",
    "if impuesto is not None:\n",
    "    print(\"El impuesto sobre la renta es: $\", round(impuesto, 2))\n"
   ]
  },
  {
   "cell_type": "markdown",
   "id": "b5968b3d",
   "metadata": {},
   "source": [
    "15.Crea un programa que evalúe el nivel de contaminación del aire en función de la concentración de partículas en suspensión (PM2.5) en microgramos por metro cúbico (µg/m³). Para eso deberás:\n",
    "\n",
    "Solicita al usuario que ingrese la concentración de PM2.5 en el aire en µg/m³. El usuario debe ingresar un valor numérico.\n",
    "\n",
    "Evalúa el nivel de contaminación del aire según la siguiente escala:\n",
    "\n",
    "Si la concentración de PM2.5 es menor o igual a 12 µg/m³, el aire se considera \"Excelente\".\n",
    "\n",
    "Si la concentración de PM2.5 está entre 13 µg/m³ y 35 µg/m³, el aire se considera \"Bueno\".\n",
    "\n",
    "Si la concentración de PM2.5 está entre 36 µg/m³ y 55 µg/m³, el aire se considera \"Aceptable\".\n",
    "\n",
    "Si la concentración de PM2.5 está entre 56 µg/m³ y 150 µg/m³, el aire se considera \"No Saludable para Grupos Sensibles\".\n",
    "\n",
    "Si la concentración de PM2.5 es mayor a 150 µg/m³, el aire se considera \"No Saludable\".\n",
    "\n",
    "Muestra un mensaje indicando el estado de la calidad del aire. Por ejemplo, si la concentración de PM2.5 es 25 µg/m³, el programa debe mostrar: \"La calidad del aire es Buena\".\n",
    "\n",
    "Además, si la concentración de PM2.5 está en la categoría \"No Saludable para Grupos Sensibles\" o \"No Saludable\", el programa debe advertir al usuario sobre los posibles efectos en la salud.\n",
    "\n",
    "Si la concentración ingresada por el usuario es negativa o no es un número válido, el programa debe mostrar un mensaje de error."
   ]
  },
  {
   "cell_type": "code",
   "execution_count": 17,
   "id": "e6e9c173",
   "metadata": {},
   "outputs": [
    {
     "name": "stdout",
     "output_type": "stream",
     "text": [
      "La calidad del aire es Buena.\n"
     ]
    }
   ],
   "source": [
    "try:\n",
    "    # Solicitar la concentración de PM2.5\n",
    "    pm25 = float(input(\"Introduce la concentración de PM2.5 en µg/m³: \"))\n",
    "\n",
    "    # Validar que no sea negativa\n",
    "    if pm25 < 0:\n",
    "        print(\"Error: La concentración no puede ser negativa.\")\n",
    "    else:\n",
    "        # Evaluar la calidad del aire\n",
    "        if pm25 <= 12:\n",
    "            print(\"La calidad del aire es Excelente.\")\n",
    "        elif pm25 <= 35:\n",
    "            print(\"La calidad del aire es Buena.\")\n",
    "        elif pm25 <= 55:\n",
    "            print(\"La calidad del aire es Aceptable.\")\n",
    "        elif pm25 <= 150:\n",
    "            print(\"La calidad del aire es No Saludable para Grupos Sensibles.\")\n",
    "            print(\"⚠️ Advertencia: Puede afectar a personas con problemas respiratorios, niños y ancianos.\")\n",
    "        else:\n",
    "            print(\"La calidad del aire es No Saludable.\")\n",
    "            print(\"⚠️ Advertencia: Riesgo para la salud general. Evita actividades al aire libre.\")\n",
    "except ValueError:\n",
    "    print(\"Error: Debes ingresar un número válido.\")\n"
   ]
  }
 ],
 "metadata": {
  "kernelspec": {
   "display_name": "Python 3",
   "language": "python",
   "name": "python3"
  },
  "language_info": {
   "codemirror_mode": {
    "name": "ipython",
    "version": 3
   },
   "file_extension": ".py",
   "mimetype": "text/x-python",
   "name": "python",
   "nbconvert_exporter": "python",
   "pygments_lexer": "ipython3",
   "version": "3.13.7"
  }
 },
 "nbformat": 4,
 "nbformat_minor": 5
}
