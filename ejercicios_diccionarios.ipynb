{
 "cells": [
  {
   "cell_type": "code",
   "execution_count": 1,
   "id": "bfa6d7e3",
   "metadata": {},
   "outputs": [],
   "source": [
    "#### 1 Crea el diccionario festivos con las fechas como claves y los nombres como valores: 01/01: Año Nuevo, 06/01: Epifanía del Señor, 15/04: Viernes Santo, 15/08: Asunción de la Virgen, 12/10: Fiesta Nacional de España, 01/11: Todos los Santos, 06/12: Día de la Constitución Española, y 08/12: Inmaculada Concepción."
   ]
  },
  {
   "cell_type": "code",
   "execution_count": 2,
   "id": "479f4452",
   "metadata": {},
   "outputs": [],
   "source": [
    "#### 2 Crea el diccionario monarcas con los países como claves y los nombres como valores: Bélgica: Philippe, Dinamarca: Margrethe II, Holanda: Beatrix, Noruega: Harald V, España: Felipe VI, Reino Unido: Carlos III."
   ]
  },
  {
   "cell_type": "code",
   "execution_count": 3,
   "id": "8ca167b8",
   "metadata": {},
   "outputs": [],
   "source": [
    "\n",
    "#### 3 Leer, añadir, y cambiar elementos ¿Qué festivo hay el 15/04? La reina 'Beatrix' abdicó, ahora es el rey 'Willem-Alexander'. Actualiza el dict."
   ]
  }
 ],
 "metadata": {
  "kernelspec": {
   "display_name": "Python 3",
   "language": "python",
   "name": "python3"
  },
  "language_info": {
   "codemirror_mode": {
    "name": "ipython",
    "version": 3
   },
   "file_extension": ".py",
   "mimetype": "text/x-python",
   "name": "python",
   "nbconvert_exporter": "python",
   "pygments_lexer": "ipython3",
   "version": "3.13.7"
  }
 },
 "nbformat": 4,
 "nbformat_minor": 5
}
