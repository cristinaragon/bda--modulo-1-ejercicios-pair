{
 "cells": [
  {
   "cell_type": "markdown",
   "id": "b091e322",
   "metadata": {},
   "source": [
    "# Ejercicios de diccionarios\n",
    "## Definir diccionarios\n",
    "\n",
    "#### 1 Crea el diccionario festivos con las fechas como claves y los nombres como valores: 01/01: Año Nuevo, 06/01: Epifanía del Señor, 15/04: Viernes Santo, 15/08: Asunción de la Virgen, 12/10: Fiesta Nacional de España, 01/11: Todos los Santos, 06/12: Día de la Constitución Española, y 08/12: Inmaculada Concepción.\n",
    "\n",
    "#### 2 Crea el diccionario monarcas con los países como claves y los nombres como valores: Bélgica: Philippe, Dinamarca: Margrethe II, Holanda: Beatrix, Noruega: Harald V, España: Felipe VI, Reino Unido: Carlos III.\n",
    "\n",
    "#### 3 Leer, añadir, y cambiar elementos\n",
    "\n",
    "    ¿Qué festivo hay el 15/04?\n",
    "\n",
    "    La reina 'Beatrix' abdicó, ahora es el rey 'Willem-Alexander'. Actualiza el dict.\n",
    "\n"
   ]
  }
 ],
 "metadata": {
  "language_info": {
   "name": "python"
  }
 },
 "nbformat": 4,
 "nbformat_minor": 5
}
