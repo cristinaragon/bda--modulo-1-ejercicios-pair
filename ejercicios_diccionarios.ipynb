{
 "cells": [
  {
   "cell_type": "markdown",
   "id": "b091e322",
   "metadata": {},
   "source": [
    "# Ejercicios de diccionarios\n",
    "## Definir diccionarios\n",
    "\n",
    "#### 1 Crea el diccionario festivos con las fechas como claves y los nombres como valores: 01/01: Año Nuevo, 06/01: Epifanía del Señor, 15/04: Viernes Santo, 15/08: Asunción de la Virgen, 12/10: Fiesta Nacional de España, 01/11: Todos los Santos, 06/12: Día de la Constitución Española, y 08/12: Inmaculada Concepción.\n",
    "\n"
   ]
  }
 ],
 "metadata": {
  "language_info": {
   "name": "python"
  }
 },
 "nbformat": 4,
 "nbformat_minor": 5
}
