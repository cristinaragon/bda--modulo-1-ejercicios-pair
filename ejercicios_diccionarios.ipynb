{
 "cells": [
  {
   "cell_type": "code",
   "execution_count": 4,
   "id": "bfa6d7e3",
   "metadata": {},
   "outputs": [],
   "source": [
    "#### 1 Crea el diccionario festivos con las fechas como claves y los nombres como valores: 01/01: Año Nuevo, 06/01: Epifanía del Señor, 15/04: Viernes Santo, 15/08: Asunción de la Virgen, 12/10: Fiesta Nacional de España, 01/11: Todos los Santos, 06/12: Día de la Constitución Española, y 08/12: Inmaculada Concepción.\n",
    "festivos = {\n",
    "    \"01/01\": \"Año Nuevo\",\n",
    "    \"06/01\": \"Epifanía del Señor\",\n",
    "    \"15/04\": \"Viernes Santo\",\n",
    "    \"15/08\": \"Asunción de la Virgen\",\n",
    "    \"12/10\": \"Fiesta Nacional de España\",\n",
    "    \"01/11\": \"Todos los Santos\",\n",
    "    \"06/12\": \"Día de la Constitución Española\",\n",
    "    \"08/12\": \"Inmaculada Concepción\"\n",
    "}"
   ]
  },
  {
   "cell_type": "code",
   "execution_count": 7,
   "id": "479f4452",
   "metadata": {},
   "outputs": [],
   "source": [
    "#### 2 Crea el diccionario monarcas con los países como claves y los nombres como valores: Bélgica: Philippe, Dinamarca: Margrethe II, Holanda: Beatrix, Noruega: Harald V, España: Felipe VI, Reino Unido: Carlos III.\n",
    "monarcas = {\n",
    "    \"Bélgica\": \"Philippe\",\n",
    "    \"Dinamarca\": \"Margrethe II\",\n",
    "    \"Holanda\": \"Beatrix\",\n",
    "    \"Noruega\": \"Harald V\",\n",
    "    \"España\": \"Felipe VI\",\n",
    "    \"Reino Unido\": \"Carlos III\"\n",
    "}"
   ]
  },
  {
   "cell_type": "code",
   "execution_count": 5,
   "id": "8ca167b8",
   "metadata": {},
   "outputs": [
    {
     "name": "stdout",
     "output_type": "stream",
     "text": [
      "Viernes Santo\n"
     ]
    }
   ],
   "source": [
    "\n",
    "#### 3 Leer, añadir, y cambiar elementos ¿Qué festivo hay el 15/04? \n",
    "print(festivos[\"15/04\"])"
   ]
  },
  {
   "cell_type": "code",
   "execution_count": 8,
   "id": "25b6beba",
   "metadata": {},
   "outputs": [],
   "source": [
    "#### La reina 'Beatrix' abdicó, ahora es el rey 'Willem-Alexander'. Actualiza el dict.\n",
    "monarcas[\"Holanda\"] = \"Willem-Alexander\" \n"
   ]
  },
  {
   "cell_type": "code",
   "execution_count": null,
   "id": "4a778232",
   "metadata": {},
   "outputs": [],
   "source": [
    "#### El rey de Luxemburgo se llama Henri. Añadelo al dict usando .update()."
   ]
  },
  {
   "cell_type": "code",
   "execution_count": 1,
   "id": "ba4b33a5",
   "metadata": {},
   "outputs": [],
   "source": [
    "#### Comprobar contenidos ¿Cuántos países están definidos en monarcas? ¿Es 'Monaco' uno de ellos? ¿Es verdad que nos olvidamos de poner 'Suecia'? Compruébalo de una manera en que obtengas un True o False."
   ]
  },
  {
   "cell_type": "code",
   "execution_count": null,
   "id": "c4f070fc",
   "metadata": {},
   "outputs": [],
   "source": [
    "\n",
    "#### Listar los contenidos Saca una lista de todos los países en el dict monarcas. Saca una lista de los nombres de los festivos. Imprime el diccionario de festivos. Imprime una lista de tuplas de todos los elementos que hay en festivos."
   ]
  },
  {
   "cell_type": "code",
   "execution_count": null,
   "id": "c5a906c6",
   "metadata": {},
   "outputs": [],
   "source": [
    "#### Copiar dicts, y borrar elementos Copia monarcas a monarcas2010. Quita España de monarcas2010. Quita el último elemento de monarcas2010."
   ]
  },
  {
   "cell_type": "code",
   "execution_count": null,
   "id": "bdda1643",
   "metadata": {},
   "outputs": [],
   "source": [
    "#### Vaciar y borrar dicts Vacia el dict monarcas2010."
   ]
  },
  {
   "cell_type": "code",
   "execution_count": null,
   "id": "24f14535",
   "metadata": {},
   "outputs": [],
   "source": [
    "#### Obtener valores ¿Qué festivo hay el 06/01? Obten el festivo que haya el 08/03, y en su defecto devuélve 'Día Internacional de la Mujer'. Obten el festivo que haya el 31/11, y si no existe crea un par de clave-valor nuevo con el valor de 'Todos los Santos'."
   ]
  }
 ],
 "metadata": {
  "kernelspec": {
   "display_name": "Python 3",
   "language": "python",
   "name": "python3"
  },
  "language_info": {
   "codemirror_mode": {
    "name": "ipython",
    "version": 3
   },
   "file_extension": ".py",
   "mimetype": "text/x-python",
   "name": "python",
   "nbconvert_exporter": "python",
   "pygments_lexer": "ipython3",
   "version": "3.13.7"
  }
 },
 "nbformat": 4,
 "nbformat_minor": 5
}
