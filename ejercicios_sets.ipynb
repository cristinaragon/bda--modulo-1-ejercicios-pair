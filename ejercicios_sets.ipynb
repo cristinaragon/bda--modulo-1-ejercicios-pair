{
 "cells": [
  {
   "cell_type": "code",
   "execution_count": 34,
   "id": "491a2ded",
   "metadata": {},
   "outputs": [
    {
     "name": "stdout",
     "output_type": "stream",
     "text": [
      "{10, 11, 12, 13, 14, 15, 16, 17, 18}\n"
     ]
    }
   ],
   "source": [
    "# Definir sets: Define la lista\n",
    "\n",
    "temperaturas_diciembre = [10, 10, 13, 14, 12, 15, \n",
    "12, 11, 13, 17, 18, 15, \n",
    "15, 17, 17, 13, 13, 11,\n",
    "12, 10, 12, 14, 12, 12,\n",
    "11, 12, 16, 16, 14, 17, 18]\n",
    "\n",
    "# Conviértala en un set llamado diciembre.\n",
    "\n",
    "diciembre = set (temperaturas_diciembre)\n",
    "print (diciembre)"
   ]
  },
  {
   "cell_type": "code",
   "execution_count": 35,
   "id": "5077b0b7",
   "metadata": {},
   "outputs": [],
   "source": [
    "# Piensa en 6 colores y almacenalos en un set llamado colores.\n",
    "\n",
    "colores = {\"rosa\", \"amarillo\", \"rojo\", \"azul\", \"verde\", \"blanco\"}"
   ]
  },
  {
   "cell_type": "code",
   "execution_count": 36,
   "id": "7879d81d",
   "metadata": {},
   "outputs": [
    {
     "name": "stdout",
     "output_type": "stream",
     "text": [
      "{'verde', 'rojo', 'amarillo', 'azul', 'rosa', 'blanco', 'lila'}\n"
     ]
    }
   ],
   "source": [
    "# Añade 'lila' a colores.\n",
    "\n",
    "colores.add(\"lila\")\n",
    "print (colores)"
   ]
  },
  {
   "cell_type": "code",
   "execution_count": 51,
   "id": "86b33908",
   "metadata": {},
   "outputs": [
    {
     "name": "stdout",
     "output_type": "stream",
     "text": [
      "{'g', 'rojo', 'r', 'amarillo', 'blanco', 'a', 'o', 'verde', 'm', 'e', 'rosa', 'azul', 'lila', 'n', 'd'}\n"
     ]
    }
   ],
   "source": [
    "#5 Añade 'negro', 'marron', y 'dorado' a colores usando .update().\n",
    "\n",
    "colores.update (\"negro\", \"marron\", \"dorado\")\n",
    "print (colores)\n"
   ]
  },
  {
   "cell_type": "code",
   "execution_count": 52,
   "id": "fba282ee",
   "metadata": {},
   "outputs": [
    {
     "data": {
      "text/plain": [
       "True"
      ]
     },
     "execution_count": 52,
     "metadata": {},
     "output_type": "execute_result"
    }
   ],
   "source": [
    "#6 Tu set de colores, ¿tiene 'verde'?\n",
    "\n",
    "\"verde\" in colores"
   ]
  },
  {
   "cell_type": "code",
   "execution_count": 53,
   "id": "6c979cfd",
   "metadata": {},
   "outputs": [
    {
     "data": {
      "text/plain": [
       "False"
      ]
     },
     "execution_count": 53,
     "metadata": {},
     "output_type": "execute_result"
    }
   ],
   "source": [
    "#7 ¿Y tiene 'ROJO'?\n",
    "\"rojo\" not in colores"
   ]
  },
  {
   "cell_type": "code",
   "execution_count": null,
   "id": "372a2c17",
   "metadata": {},
   "outputs": [
    {
     "name": "stdout",
     "output_type": "stream",
     "text": [
      "<built-in method copy of set object at 0x000002194D17E960>\n"
     ]
    }
   ],
   "source": [
    "# Define el set enero para que sea igual a diciembre.\n",
    "!! HELP\n",
    "\n",
    "enero = diciembre.copy\n",
    "print (enero)\n"
   ]
  }
 ],
 "metadata": {
  "kernelspec": {
   "display_name": "base",
   "language": "python",
   "name": "python3"
  },
  "language_info": {
   "codemirror_mode": {
    "name": "ipython",
    "version": 3
   },
   "file_extension": ".py",
   "mimetype": "text/x-python",
   "name": "python",
   "nbconvert_exporter": "python",
   "pygments_lexer": "ipython3",
   "version": "3.13.5"
  }
 },
 "nbformat": 4,
 "nbformat_minor": 5
}
