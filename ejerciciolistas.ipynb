{
 "cells": [
  {
   "cell_type": "markdown",
   "id": "274ca7db",
   "metadata": {},
   "source": [
    "EJERCICIOS"
   ]
  },
  {
   "cell_type": "code",
   "execution_count": 2,
   "id": "01753098",
   "metadata": {},
   "outputs": [
    {
     "name": "stdout",
     "output_type": "stream",
     "text": [
      "['azul', 'verde', 'lila', 'rosa', 'amarillo', 'negro']\n"
     ]
    }
   ],
   "source": [
    "colores= [\"azul\", \"verde\", \"lila\", \"rosa\", \"amarillo\", \"negro\"]\n",
    "print(colores)"
   ]
  },
  {
   "cell_type": "code",
   "execution_count": 10,
   "id": "235cc93d",
   "metadata": {},
   "outputs": [
    {
     "name": "stdout",
     "output_type": "stream",
     "text": [
      "['linea1', 'linea5', 'linea10', 'linea15', 'linea20']\n"
     ]
    }
   ],
   "source": [
    "buses= [\"linea1\", \"linea5\", \"linea10\", \"linea15\", \"linea20\"]\n",
    "print(buses)"
   ]
  },
  {
   "cell_type": "code",
   "execution_count": 6,
   "id": "9f5d5968",
   "metadata": {},
   "outputs": [
    {
     "name": "stdout",
     "output_type": "stream",
     "text": [
      "[28, 29, 30, 31, 32, 33, 34, 35]\n"
     ]
    }
   ],
   "source": [
    "temperaturas_maximas= [28,29,30,31,32,33,34,35]\n",
    "print(temperaturas_maximas)"
   ]
  },
  {
   "cell_type": "code",
   "execution_count": 58,
   "id": "dc23683d",
   "metadata": {},
   "outputs": [
    {
     "name": "stdout",
     "output_type": "stream",
     "text": [
      "['C', 'r', 'i', 's', 't', 'i', 'n', 'a']\n"
     ]
    }
   ],
   "source": [
    "nombres= \"Cristina\"\n",
    "lista_de_caracteres= list(nombres)\n",
    "print(lista_de_caracteres)"
   ]
  },
  {
   "cell_type": "code",
   "execution_count": 9,
   "id": "7bba961e",
   "metadata": {},
   "outputs": [
    {
     "name": "stdout",
     "output_type": "stream",
     "text": [
      "['Santarelli', 'Aguilo', 'Aragon']\n"
     ]
    }
   ],
   "source": [
    "apellidos= [\"Santarelli\", \"Aguilo\", \"Aragon\"]\n",
    "print(apellidos)"
   ]
  },
  {
   "cell_type": "code",
   "execution_count": 12,
   "id": "b292c5ed",
   "metadata": {},
   "outputs": [
    {
     "data": {
      "text/plain": [
       "5"
      ]
     },
     "execution_count": 12,
     "metadata": {},
     "output_type": "execute_result"
    }
   ],
   "source": [
    "len(buses)"
   ]
  },
  {
   "cell_type": "code",
   "execution_count": 47,
   "id": "9aed05d0",
   "metadata": {},
   "outputs": [
    {
     "name": "stdout",
     "output_type": "stream",
     "text": [
      "Aragon\n"
     ]
    }
   ],
   "source": [
    "#contar caracteres de apellidos NO RESUELTO EJERCICIO 7\n",
    "print(apellidos[2])"
   ]
  },
  {
   "cell_type": "code",
   "execution_count": 53,
   "id": "633968ef",
   "metadata": {},
   "outputs": [
    {
     "data": {
      "text/plain": [
       "22"
      ]
     },
     "execution_count": 53,
     "metadata": {},
     "output_type": "execute_result"
    }
   ],
   "source": [
    "len(apellidos[0]) + len(apellidos[1]) + len(apellidos[2])"
   ]
  },
  {
   "cell_type": "code",
   "execution_count": 26,
   "id": "f8d65dca",
   "metadata": {},
   "outputs": [
    {
     "data": {
      "text/plain": [
       "28"
      ]
     },
     "execution_count": 26,
     "metadata": {},
     "output_type": "execute_result"
    }
   ],
   "source": [
    "min(temperaturas_maximas)"
   ]
  },
  {
   "cell_type": "code",
   "execution_count": 27,
   "id": "cf08a5b9",
   "metadata": {},
   "outputs": [
    {
     "data": {
      "text/plain": [
       "35"
      ]
     },
     "execution_count": 27,
     "metadata": {},
     "output_type": "execute_result"
    }
   ],
   "source": [
    "max(temperaturas_maximas)"
   ]
  },
  {
   "cell_type": "code",
   "execution_count": 62,
   "id": "2c410e0e",
   "metadata": {},
   "outputs": [
    {
     "data": {
      "text/plain": [
       "False"
      ]
     },
     "execution_count": 62,
     "metadata": {},
     "output_type": "execute_result"
    }
   ],
   "source": [
    "len(lista_de_caracteres)\n",
    "\"e\"in lista_de_caracteres\n",
    "\"e\" in nombres\n"
   ]
  }
 ],
 "metadata": {
  "kernelspec": {
   "display_name": "base",
   "language": "python",
   "name": "python3"
  },
  "language_info": {
   "codemirror_mode": {
    "name": "ipython",
    "version": 3
   },
   "file_extension": ".py",
   "mimetype": "text/x-python",
   "name": "python",
   "nbconvert_exporter": "python",
   "pygments_lexer": "ipython3",
   "version": "3.13.5"
  }
 },
 "nbformat": 4,
 "nbformat_minor": 5
}
